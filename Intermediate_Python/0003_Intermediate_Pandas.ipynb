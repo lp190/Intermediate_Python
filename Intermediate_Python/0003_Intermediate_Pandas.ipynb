{
 "cells": [
  {
   "cell_type": "code",
   "execution_count": 1,
   "id": "ddacd84d",
   "metadata": {},
   "outputs": [],
   "source": [
    "# import packages\n",
    "import pandas as pd\n",
    "import numpy as np\n",
    "import matplotlib.pyplot as plt"
   ]
  },
  {
   "cell_type": "markdown",
   "id": "838d42b1",
   "metadata": {},
   "source": [
    "### Crearting a Dataframe from the lists\n"
   ]
  },
  {
   "cell_type": "code",
   "execution_count": 2,
   "id": "47eada0c",
   "metadata": {},
   "outputs": [],
   "source": [
    "# Some lists of countries, driving side, and cars per capita\n",
    "names = ['United States', 'Australia', 'Japan', 'India', 'Russia', 'Morocco', 'Egypt']\n",
    "dr =  [True, False, False, False, True, True, True]\n",
    "cpc = [809, 731, 588, 18, 200, 70, 45]\n"
   ]
  },
  {
   "cell_type": "code",
   "execution_count": 3,
   "id": "2d9b7da8",
   "metadata": {},
   "outputs": [],
   "source": [
    "# Create dictionary my_dict with three key: value pairs: my_dict\n",
    "my_dict = {'country': names, 'drives_right': dr, 'cars_per_cap': cpc}\n",
    "\n"
   ]
  },
  {
   "cell_type": "code",
   "execution_count": 4,
   "id": "ea4c5fcc",
   "metadata": {},
   "outputs": [
    {
     "name": "stdout",
     "output_type": "stream",
     "text": [
      "         country  drives_right  cars_per_cap\n",
      "0  United States          True           809\n",
      "1      Australia         False           731\n",
      "2          Japan         False           588\n",
      "3          India         False            18\n",
      "4         Russia          True           200\n",
      "5        Morocco          True            70\n",
      "6          Egypt          True            45\n"
     ]
    }
   ],
   "source": [
    "# Create a dataframe cars from the above dictionary\n",
    "cars = pd.DataFrame(my_dict)\n",
    "print(cars)"
   ]
  },
  {
   "cell_type": "code",
   "execution_count": 5,
   "id": "d735a9e6",
   "metadata": {},
   "outputs": [
    {
     "name": "stdout",
     "output_type": "stream",
     "text": [
      "           country  drives_right  cars_per_cap\n",
      "US   United States          True           809\n",
      "AUS      Australia         False           731\n",
      "JPN          Japan         False           588\n",
      "IN           India         False            18\n",
      "RU          Russia          True           200\n",
      "MOR        Morocco          True            70\n",
      "EG           Egypt          True            45\n"
     ]
    }
   ],
   "source": [
    "# Set row_labels\n",
    "row_labels = ['US', 'AUS', 'JPN', 'IN', 'RU', 'MOR', 'EG']\n",
    "\n",
    "# Specify row labels of cars\n",
    "cars.index = row_labels\n",
    "print(cars)"
   ]
  },
  {
   "cell_type": "code",
   "execution_count": 6,
   "id": "495a6881",
   "metadata": {},
   "outputs": [
    {
     "name": "stdout",
     "output_type": "stream",
     "text": [
      "            cars_per_cap        country  drives_right\n",
      "country_ab                                           \n",
      "US                   809  United States          True\n",
      "AUS                  731      Australia         False\n",
      "JAP                  588          Japan         False\n",
      "IN                    18          India         False\n",
      "RU                   200         Russia          True\n",
      "MOR                   70        Morocco          True\n",
      "EG                    45          Egypt          True\n"
     ]
    }
   ],
   "source": [
    "# Import csv data\n",
    "cars = pd.read_csv('cars.csv', index_col = 0)\n",
    "print(cars)\n",
    "\n",
    "# Fix import by incuding index_col"
   ]
  },
  {
   "cell_type": "markdown",
   "id": "8ebdfaf8",
   "metadata": {},
   "source": [
    "#### Play with brics\n"
   ]
  },
  {
   "cell_type": "code",
   "execution_count": 7,
   "id": "526a39a1",
   "metadata": {},
   "outputs": [
    {
     "name": "stdout",
     "output_type": "stream",
     "text": [
      "                 country    capital    area  population\n",
      "country_ab                                             \n",
      "BR                Brazil   Brasilia   8.516      200.40\n",
      "RU                Russia     Moscow  17.100      143.50\n",
      "IN                 India  New Delhi   3.286     1252.00\n",
      "CH                 China    Beijing   9.597     1357.00\n",
      "SA          South Africa   Pretoria   1.221       52.98\n"
     ]
    }
   ],
   "source": [
    "# Load brics countries\n",
    "bric = pd.read_csv('brics.csv', index_col = 0)\n",
    "\n",
    "# Check the data out\n",
    "print(bric)\n",
    "\n",
    "\n"
   ]
  },
  {
   "cell_type": "code",
   "execution_count": 8,
   "id": "49eb2c5e",
   "metadata": {},
   "outputs": [
    {
     "data": {
      "text/plain": [
       "pandas.core.series.Series"
      ]
     },
     "execution_count": 8,
     "metadata": {},
     "output_type": "execute_result"
    }
   ],
   "source": [
    "# Column access\n",
    "bric['country']\n",
    "type(bric['country'])\n",
    "\n",
    "\n",
    "\n"
   ]
  },
  {
   "cell_type": "code",
   "execution_count": 9,
   "id": "bde35587",
   "metadata": {},
   "outputs": [
    {
     "data": {
      "text/plain": [
       "pandas.core.frame.DataFrame"
      ]
     },
     "execution_count": 9,
     "metadata": {},
     "output_type": "execute_result"
    }
   ],
   "source": [
    "# Notice the difference betweeen these two\n",
    "bric[['country']]\n",
    "type(bric[['country']])\n"
   ]
  },
  {
   "cell_type": "markdown",
   "id": "6a18b49e",
   "metadata": {},
   "source": [
    "### Still working on cars"
   ]
  },
  {
   "cell_type": "code",
   "execution_count": 11,
   "id": "7afcbc66",
   "metadata": {},
   "outputs": [
    {
     "data": {
      "text/html": [
       "<div>\n",
       "<style scoped>\n",
       "    .dataframe tbody tr th:only-of-type {\n",
       "        vertical-align: middle;\n",
       "    }\n",
       "\n",
       "    .dataframe tbody tr th {\n",
       "        vertical-align: top;\n",
       "    }\n",
       "\n",
       "    .dataframe thead th {\n",
       "        text-align: right;\n",
       "    }\n",
       "</style>\n",
       "<table border=\"1\" class=\"dataframe\">\n",
       "  <thead>\n",
       "    <tr style=\"text-align: right;\">\n",
       "      <th></th>\n",
       "      <th>cars_per_cap</th>\n",
       "      <th>country</th>\n",
       "      <th>drives_right</th>\n",
       "    </tr>\n",
       "    <tr>\n",
       "      <th>country_ab</th>\n",
       "      <th></th>\n",
       "      <th></th>\n",
       "      <th></th>\n",
       "    </tr>\n",
       "  </thead>\n",
       "  <tbody>\n",
       "    <tr>\n",
       "      <th>US</th>\n",
       "      <td>809</td>\n",
       "      <td>United States</td>\n",
       "      <td>True</td>\n",
       "    </tr>\n",
       "    <tr>\n",
       "      <th>AUS</th>\n",
       "      <td>731</td>\n",
       "      <td>Australia</td>\n",
       "      <td>False</td>\n",
       "    </tr>\n",
       "    <tr>\n",
       "      <th>JAP</th>\n",
       "      <td>588</td>\n",
       "      <td>Japan</td>\n",
       "      <td>False</td>\n",
       "    </tr>\n",
       "    <tr>\n",
       "      <th>IN</th>\n",
       "      <td>18</td>\n",
       "      <td>India</td>\n",
       "      <td>False</td>\n",
       "    </tr>\n",
       "    <tr>\n",
       "      <th>RU</th>\n",
       "      <td>200</td>\n",
       "      <td>Russia</td>\n",
       "      <td>True</td>\n",
       "    </tr>\n",
       "    <tr>\n",
       "      <th>MOR</th>\n",
       "      <td>70</td>\n",
       "      <td>Morocco</td>\n",
       "      <td>True</td>\n",
       "    </tr>\n",
       "    <tr>\n",
       "      <th>EG</th>\n",
       "      <td>45</td>\n",
       "      <td>Egypt</td>\n",
       "      <td>True</td>\n",
       "    </tr>\n",
       "  </tbody>\n",
       "</table>\n",
       "</div>"
      ],
      "text/plain": [
       "            cars_per_cap        country  drives_right\n",
       "country_ab                                           \n",
       "US                   809  United States          True\n",
       "AUS                  731      Australia         False\n",
       "JAP                  588          Japan         False\n",
       "IN                    18          India         False\n",
       "RU                   200         Russia          True\n",
       "MOR                   70        Morocco          True\n",
       "EG                    45          Egypt          True"
      ]
     },
     "execution_count": 11,
     "metadata": {},
     "output_type": "execute_result"
    }
   ],
   "source": [
    "cars"
   ]
  },
  {
   "cell_type": "code",
   "execution_count": 12,
   "id": "3047acb0",
   "metadata": {},
   "outputs": [
    {
     "name": "stdout",
     "output_type": "stream",
     "text": [
      "country_ab\n",
      "US     United States\n",
      "AUS        Australia\n",
      "JAP            Japan\n",
      "IN             India\n",
      "RU            Russia\n",
      "MOR          Morocco\n",
      "EG             Egypt\n",
      "Name: country, dtype: object\n"
     ]
    }
   ],
   "source": [
    "# Print out country column as Pandas Series\n",
    "print(cars['country'])\n"
   ]
  },
  {
   "cell_type": "code",
   "execution_count": 13,
   "id": "c147f8af",
   "metadata": {},
   "outputs": [
    {
     "name": "stdout",
     "output_type": "stream",
     "text": [
      "                  country\n",
      "country_ab               \n",
      "US          United States\n",
      "AUS             Australia\n",
      "JAP                 Japan\n",
      "IN                  India\n",
      "RU                 Russia\n",
      "MOR               Morocco\n",
      "EG                  Egypt\n"
     ]
    }
   ],
   "source": [
    "# Print out country column as Pandas DataFrame\n",
    "print(cars\n",
    "    [['country']])"
   ]
  },
  {
   "cell_type": "code",
   "execution_count": 14,
   "id": "b24370a2",
   "metadata": {},
   "outputs": [
    {
     "name": "stdout",
     "output_type": "stream",
     "text": [
      "                  country  drives_right\n",
      "country_ab                             \n",
      "US          United States          True\n",
      "AUS             Australia         False\n",
      "JAP                 Japan         False\n",
      "IN                  India         False\n",
      "RU                 Russia          True\n",
      "MOR               Morocco          True\n",
      "EG                  Egypt          True\n"
     ]
    }
   ],
   "source": [
    "# Print out DataFrame wth country and drives_right columns\n",
    "print(cars[['country', 'drives_right']])"
   ]
  },
  {
   "cell_type": "code",
   "execution_count": 15,
   "id": "fa994fb1",
   "metadata": {},
   "outputs": [
    {
     "data": {
      "text/html": [
       "<div>\n",
       "<style scoped>\n",
       "    .dataframe tbody tr th:only-of-type {\n",
       "        vertical-align: middle;\n",
       "    }\n",
       "\n",
       "    .dataframe tbody tr th {\n",
       "        vertical-align: top;\n",
       "    }\n",
       "\n",
       "    .dataframe thead th {\n",
       "        text-align: right;\n",
       "    }\n",
       "</style>\n",
       "<table border=\"1\" class=\"dataframe\">\n",
       "  <thead>\n",
       "    <tr style=\"text-align: right;\">\n",
       "      <th></th>\n",
       "      <th>cars_per_cap</th>\n",
       "      <th>country</th>\n",
       "      <th>drives_right</th>\n",
       "    </tr>\n",
       "    <tr>\n",
       "      <th>country_ab</th>\n",
       "      <th></th>\n",
       "      <th></th>\n",
       "      <th></th>\n",
       "    </tr>\n",
       "  </thead>\n",
       "  <tbody>\n",
       "    <tr>\n",
       "      <th>US</th>\n",
       "      <td>809</td>\n",
       "      <td>United States</td>\n",
       "      <td>True</td>\n",
       "    </tr>\n",
       "    <tr>\n",
       "      <th>AUS</th>\n",
       "      <td>731</td>\n",
       "      <td>Australia</td>\n",
       "      <td>False</td>\n",
       "    </tr>\n",
       "    <tr>\n",
       "      <th>JAP</th>\n",
       "      <td>588</td>\n",
       "      <td>Japan</td>\n",
       "      <td>False</td>\n",
       "    </tr>\n",
       "  </tbody>\n",
       "</table>\n",
       "</div>"
      ],
      "text/plain": [
       "            cars_per_cap        country  drives_right\n",
       "country_ab                                           \n",
       "US                   809  United States          True\n",
       "AUS                  731      Australia         False\n",
       "JAP                  588          Japan         False"
      ]
     },
     "execution_count": 15,
     "metadata": {},
     "output_type": "execute_result"
    }
   ],
   "source": [
    "# Print out first 3 observations\n",
    "cars[0:3]"
   ]
  },
  {
   "cell_type": "code",
   "execution_count": 16,
   "id": "614f59f0",
   "metadata": {},
   "outputs": [
    {
     "name": "stdout",
     "output_type": "stream",
     "text": [
      "            cars_per_cap  country  drives_right\n",
      "country_ab                                     \n",
      "IN                    18    India         False\n",
      "RU                   200   Russia          True\n",
      "MOR                   70  Morocco          True\n"
     ]
    }
   ],
   "source": [
    "# Print out fourth, fifth, and sixth observation\n",
    "print(cars[3:6])"
   ]
  },
  {
   "cell_type": "markdown",
   "id": "19319494",
   "metadata": {},
   "source": [
    "#### Working with loc and iloc"
   ]
  },
  {
   "cell_type": "code",
   "execution_count": 17,
   "id": "5c8b9a72",
   "metadata": {},
   "outputs": [
    {
     "name": "stdout",
     "output_type": "stream",
     "text": [
      "cars_per_cap      588\n",
      "country         Japan\n",
      "drives_right    False\n",
      "Name: JAP, dtype: object\n"
     ]
    }
   ],
   "source": [
    "# Print our observations for Japan\n",
    "print(cars.loc['JAP'])"
   ]
  },
  {
   "cell_type": "code",
   "execution_count": 18,
   "id": "fb74455f",
   "metadata": {},
   "outputs": [
    {
     "name": "stdout",
     "output_type": "stream",
     "text": [
      "            cars_per_cap    country  drives_right\n",
      "country_ab                                       \n",
      "AUS                  731  Australia         False\n",
      "EG                    45      Egypt          True\n"
     ]
    }
   ],
   "source": [
    "# Print out observations for Australia and Egypt\n",
    "print(cars.loc[['AUS', 'EG']])"
   ]
  },
  {
   "cell_type": "code",
   "execution_count": 19,
   "id": "6c1077a0",
   "metadata": {},
   "outputs": [
    {
     "data": {
      "text/html": [
       "<div>\n",
       "<style scoped>\n",
       "    .dataframe tbody tr th:only-of-type {\n",
       "        vertical-align: middle;\n",
       "    }\n",
       "\n",
       "    .dataframe tbody tr th {\n",
       "        vertical-align: top;\n",
       "    }\n",
       "\n",
       "    .dataframe thead th {\n",
       "        text-align: right;\n",
       "    }\n",
       "</style>\n",
       "<table border=\"1\" class=\"dataframe\">\n",
       "  <thead>\n",
       "    <tr style=\"text-align: right;\">\n",
       "      <th></th>\n",
       "      <th>cars_per_cap</th>\n",
       "      <th>country</th>\n",
       "      <th>drives_right</th>\n",
       "    </tr>\n",
       "    <tr>\n",
       "      <th>country_ab</th>\n",
       "      <th></th>\n",
       "      <th></th>\n",
       "      <th></th>\n",
       "    </tr>\n",
       "  </thead>\n",
       "  <tbody>\n",
       "    <tr>\n",
       "      <th>US</th>\n",
       "      <td>809</td>\n",
       "      <td>United States</td>\n",
       "      <td>True</td>\n",
       "    </tr>\n",
       "    <tr>\n",
       "      <th>AUS</th>\n",
       "      <td>731</td>\n",
       "      <td>Australia</td>\n",
       "      <td>False</td>\n",
       "    </tr>\n",
       "    <tr>\n",
       "      <th>JAP</th>\n",
       "      <td>588</td>\n",
       "      <td>Japan</td>\n",
       "      <td>False</td>\n",
       "    </tr>\n",
       "    <tr>\n",
       "      <th>IN</th>\n",
       "      <td>18</td>\n",
       "      <td>India</td>\n",
       "      <td>False</td>\n",
       "    </tr>\n",
       "    <tr>\n",
       "      <th>RU</th>\n",
       "      <td>200</td>\n",
       "      <td>Russia</td>\n",
       "      <td>True</td>\n",
       "    </tr>\n",
       "    <tr>\n",
       "      <th>MOR</th>\n",
       "      <td>70</td>\n",
       "      <td>Morocco</td>\n",
       "      <td>True</td>\n",
       "    </tr>\n",
       "    <tr>\n",
       "      <th>EG</th>\n",
       "      <td>45</td>\n",
       "      <td>Egypt</td>\n",
       "      <td>True</td>\n",
       "    </tr>\n",
       "  </tbody>\n",
       "</table>\n",
       "</div>"
      ],
      "text/plain": [
       "            cars_per_cap        country  drives_right\n",
       "country_ab                                           \n",
       "US                   809  United States          True\n",
       "AUS                  731      Australia         False\n",
       "JAP                  588          Japan         False\n",
       "IN                    18          India         False\n",
       "RU                   200         Russia          True\n",
       "MOR                   70        Morocco          True\n",
       "EG                    45          Egypt          True"
      ]
     },
     "execution_count": 19,
     "metadata": {},
     "output_type": "execute_result"
    }
   ],
   "source": [
    "\n",
    "cars"
   ]
  },
  {
   "cell_type": "code",
   "execution_count": 20,
   "id": "bbb2a3d7",
   "metadata": {},
   "outputs": [
    {
     "name": "stdout",
     "output_type": "stream",
     "text": [
      "            cars_per_cap country  drives_right\n",
      "country_ab                                    \n",
      "RU                   200  Russia          True\n",
      "JAP                  588   Japan         False\n"
     ]
    }
   ],
   "source": [
    "# Playing with iloc\n",
    "print(cars.iloc[[4, 2]])"
   ]
  },
  {
   "cell_type": "code",
   "execution_count": 21,
   "id": "9a649059",
   "metadata": {},
   "outputs": [
    {
     "name": "stdout",
     "output_type": "stream",
     "text": [
      "            cars_per_cap country  drives_right\n",
      "country_ab                                    \n",
      "IN                    18   India         False\n",
      "EG                    45   Egypt          True\n"
     ]
    }
   ],
   "source": [
    "print(cars.loc[['IN', 'EG']])"
   ]
  },
  {
   "cell_type": "code",
   "execution_count": 22,
   "id": "d9cffdb5",
   "metadata": {},
   "outputs": [
    {
     "name": "stdout",
     "output_type": "stream",
     "text": [
      "True\n"
     ]
    }
   ],
   "source": [
    "# Print out drives_right value of Morocco\n",
    "print(cars.loc['MOR', 'drives_right'])\n",
    "\n"
   ]
  },
  {
   "cell_type": "code",
   "execution_count": 23,
   "id": "a9cd18c9",
   "metadata": {},
   "outputs": [
    {
     "name": "stdout",
     "output_type": "stream",
     "text": [
      "            country  drives_right\n",
      "country_ab                       \n",
      "RU           Russia          True\n",
      "MOR         Morocco          True\n"
     ]
    }
   ],
   "source": [
    "# Print sub-DataFrame\n",
    "print(cars.loc[['RU', 'MOR'], ['country', 'drives_right']])"
   ]
  },
  {
   "cell_type": "code",
   "execution_count": 24,
   "id": "2c5c76c0",
   "metadata": {},
   "outputs": [
    {
     "name": "stdout",
     "output_type": "stream",
     "text": [
      "country_ab\n",
      "US      True\n",
      "AUS    False\n",
      "JAP    False\n",
      "IN     False\n",
      "RU      True\n",
      "MOR     True\n",
      "EG      True\n",
      "Name: drives_right, dtype: bool\n"
     ]
    }
   ],
   "source": [
    "# Print out drives_right column as Series\n",
    "print(cars.loc[:,'drives_right'])"
   ]
  },
  {
   "cell_type": "code",
   "execution_count": 25,
   "id": "d4a39bd9",
   "metadata": {},
   "outputs": [
    {
     "name": "stdout",
     "output_type": "stream",
     "text": [
      "country_ab\n",
      "US      True\n",
      "AUS    False\n",
      "JAP    False\n",
      "IN     False\n",
      "RU      True\n",
      "MOR     True\n",
      "EG      True\n",
      "Name: drives_right, dtype: bool\n"
     ]
    }
   ],
   "source": [
    "cars\n",
    "\n",
    "# Print out drives_right column as DataFrame\n",
    "print(cars.iloc[:,2])"
   ]
  },
  {
   "cell_type": "code",
   "execution_count": 26,
   "id": "7074de74",
   "metadata": {},
   "outputs": [
    {
     "name": "stdout",
     "output_type": "stream",
     "text": [
      "            cars_per_cap  drives_right\n",
      "country_ab                            \n",
      "US                   809          True\n",
      "AUS                  731         False\n",
      "JAP                  588         False\n",
      "IN                    18         False\n",
      "RU                   200          True\n",
      "MOR                   70          True\n",
      "EG                    45          True\n"
     ]
    }
   ],
   "source": [
    "cars\n",
    "# Print out cars_per_cap and drives_right as DataFrame\n",
    "print(cars.iloc[:,[0,2]])"
   ]
  },
  {
   "cell_type": "code",
   "execution_count": 28,
   "id": "a99ec826",
   "metadata": {},
   "outputs": [
    {
     "name": "stdout",
     "output_type": "stream",
     "text": [
      "            cars_per_cap  drives_right\n",
      "country_ab                            \n",
      "US                   809          True\n",
      "AUS                  731         False\n",
      "JAP                  588         False\n",
      "IN                    18         False\n",
      "RU                   200          True\n",
      "MOR                   70          True\n",
      "EG                    45          True\n"
     ]
    }
   ],
   "source": [
    "# Print out  cars_per_cap and drives_right as DataFram\n",
    "print(cars.loc[:,['cars_per_cap', 'drives_right']])"
   ]
  }
 ],
 "metadata": {
  "kernelspec": {
   "display_name": "Python 3 (ipykernel)",
   "language": "python",
   "name": "python3"
  },
  "language_info": {
   "codemirror_mode": {
    "name": "ipython",
    "version": 3
   },
   "file_extension": ".py",
   "mimetype": "text/x-python",
   "name": "python",
   "nbconvert_exporter": "python",
   "pygments_lexer": "ipython3",
   "version": "3.9.7"
  }
 },
 "nbformat": 4,
 "nbformat_minor": 5
}
