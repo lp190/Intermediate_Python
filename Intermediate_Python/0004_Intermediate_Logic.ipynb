{
 "cells": [
  {
   "cell_type": "markdown",
   "id": "29b01a64",
   "metadata": {},
   "source": [
    "### Equality"
   ]
  },
  {
   "cell_type": "code",
   "execution_count": 1,
   "id": "12171929",
   "metadata": {},
   "outputs": [
    {
     "data": {
      "text/plain": [
       "False"
      ]
     },
     "execution_count": 1,
     "metadata": {},
     "output_type": "execute_result"
    }
   ],
   "source": [
    "# Some random codes for playing\n",
    "\n",
    "\"intermediate\" != 'python'\n",
    "True == False\n",
    "\"Python\" == \"python\" \n",
    "\n"
   ]
  },
  {
   "cell_type": "markdown",
   "id": "7d963466",
   "metadata": {},
   "source": [
    "#### When wirtten in a script, it needs to be wrapped in a print()"
   ]
  },
  {
   "cell_type": "markdown",
   "id": "fc9e527f",
   "metadata": {},
   "source": [
    "## Some practice\n"
   ]
  },
  {
   "cell_type": "code",
   "execution_count": 2,
   "id": "a6c21ba3",
   "metadata": {},
   "outputs": [
    {
     "data": {
      "text/plain": [
       "False"
      ]
     },
     "execution_count": 2,
     "metadata": {},
     "output_type": "execute_result"
    }
   ],
   "source": [
    "# Comparison of booleans\n",
    "\n",
    "True == False"
   ]
  },
  {
   "cell_type": "code",
   "execution_count": 3,
   "id": "e0777d13",
   "metadata": {},
   "outputs": [
    {
     "name": "stdout",
     "output_type": "stream",
     "text": [
      "False\n",
      "True\n"
     ]
    }
   ],
   "source": [
    "# Comparison\n",
    "x =-3 * 6\n",
    "y = \"test\"\n",
    "\n",
    "# Compare\n",
    "print(x >= -10)\n",
    "print(True > False)"
   ]
  },
  {
   "cell_type": "markdown",
   "id": "37c765c7",
   "metadata": {},
   "source": [
    "### Compare Arrays"
   ]
  },
  {
   "cell_type": "code",
   "execution_count": 4,
   "id": "0d4664ae",
   "metadata": {},
   "outputs": [
    {
     "name": "stdout",
     "output_type": "stream",
     "text": [
      "[ True  True False False]\n",
      "[False  True  True False]\n"
     ]
    }
   ],
   "source": [
    "# Construct arrays\n",
    "import numpy as np\n",
    "my_house = np.array([18.0, 20.0, 10.75, 9.50])\n",
    "your_house = np.array([14.0, 24.0, 14.25, 9.0])\n",
    "\n",
    "# my_house greater than or equal to 18\n",
    "print(my_house >= 18)\n",
    "\n",
    "# my_house less than your_house\n",
    "print(my_house <= your_house)\n"
   ]
  },
  {
   "cell_type": "markdown",
   "id": "1aed382c",
   "metadata": {},
   "source": [
    "### Boolean Operators"
   ]
  },
  {
   "cell_type": "markdown",
   "id": "e4cf713c",
   "metadata": {},
   "source": [
    "# and -- or -- not               \n",
    "\n"
   ]
  },
  {
   "cell_type": "markdown",
   "id": "bb0f242c",
   "metadata": {},
   "source": [
    "##### These are the operators."
   ]
  },
  {
   "cell_type": "code",
   "execution_count": 5,
   "id": "857710ff",
   "metadata": {},
   "outputs": [],
   "source": [
    "# Define variables\n",
    "my_kitchen = 18.0\n",
    "your_kitchen = 14.0\n"
   ]
  },
  {
   "cell_type": "code",
   "execution_count": 6,
   "id": "cd078eef",
   "metadata": {},
   "outputs": [
    {
     "name": "stdout",
     "output_type": "stream",
     "text": [
      "False\n",
      "True\n"
     ]
    }
   ],
   "source": [
    "# my_kitchen bigger than 10 and smaller than 18\n",
    "print(my_kitchen > 10 and my_kitchen < 18)\n",
    "\n",
    "# my_kitchen smaller than 14 or bigger than 17\n",
    "print(my_kitchen <14 or my_kitchen > 17)"
   ]
  },
  {
   "cell_type": "code",
   "execution_count": 7,
   "id": "eb4ff3f2",
   "metadata": {},
   "outputs": [
    {
     "data": {
      "text/plain": [
       "False"
      ]
     },
     "execution_count": 7,
     "metadata": {},
     "output_type": "execute_result"
    }
   ],
   "source": [
    "x = 8\n",
    "y = 9\n",
    "not(not(x < 3) and not(y > 14 or y > 10))"
   ]
  },
  {
   "cell_type": "markdown",
   "id": "3bd2cd9b",
   "metadata": {},
   "source": [
    "### Boolean Operators with Numpy"
   ]
  },
  {
   "cell_type": "markdown",
   "id": "019c8af8",
   "metadata": {},
   "source": [
    "##### In order for operators to work in numpy arrays, we need different codes. *np_logical_and()* - *np_logical_or()* - *np_logical_not()*"
   ]
  },
  {
   "cell_type": "code",
   "execution_count": 10,
   "id": "36671fb0",
   "metadata": {},
   "outputs": [],
   "source": [
    "# Create numpy arrays\n",
    "import numpy as np\n",
    "my_house = np.array([18.0, 20.0, 10.75, 9.50])\n",
    "your_house = np.array([14.0, 24.0, 14.25, 9.0])\n"
   ]
  },
  {
   "cell_type": "code",
   "execution_count": 13,
   "id": "75580b4b",
   "metadata": {},
   "outputs": [
    {
     "name": "stdout",
     "output_type": "stream",
     "text": [
      "[False  True False  True]\n"
     ]
    }
   ],
   "source": [
    "# my_house greater than 18.5 or smaller than 10\n",
    "print(np.logical_or(my_house > 18.5,\n",
    "             my_house <10))"
   ]
  },
  {
   "cell_type": "code",
   "execution_count": 14,
   "id": "3eebf610",
   "metadata": {},
   "outputs": [
    {
     "name": "stdout",
     "output_type": "stream",
     "text": [
      "[False False False  True]\n"
     ]
    }
   ],
   "source": [
    "# both my_house and your_house smaller than 11\n",
    "print(np.logical_and(my_house < 11, your_house < 11))"
   ]
  },
  {
   "cell_type": "markdown",
   "id": "bc29e1c0",
   "metadata": {},
   "source": [
    "#### If, elif, else"
   ]
  },
  {
   "cell_type": "code",
   "execution_count": 15,
   "id": "b8886616",
   "metadata": {},
   "outputs": [
    {
     "name": "stdout",
     "output_type": "stream",
     "text": [
      "medium\n"
     ]
    }
   ],
   "source": [
    "# Some exercise with if and else statements\n",
    "\n",
    "area = 10.0\n",
    "if (area < 9):\n",
    "    print(\"small\")\n",
    "\n",
    "elif (area <12): \n",
    "    print(\"medium\")\n",
    "    \n",
    "else:\n",
    "    print(\"large\")"
   ]
  },
  {
   "cell_type": "markdown",
   "id": "c2fb578a",
   "metadata": {},
   "source": [
    "# If"
   ]
  },
  {
   "cell_type": "code",
   "execution_count": 22,
   "id": "af286656",
   "metadata": {},
   "outputs": [
    {
     "name": "stdout",
     "output_type": "stream",
     "text": [
      "looking around in the kitchen.\n",
      "big place\n"
     ]
    }
   ],
   "source": [
    "# Define variables\n",
    "room = \"kit\"\n",
    "area = 16.0\n",
    "\n",
    "# If statement for room\n",
    "if room == \"kit\":\n",
    "    print(\"looking around in the kitchen.\")\n",
    "    \n",
    "if (area > 15):\n",
    "    print(\"big place\")\n",
    "    "
   ]
  },
  {
   "cell_type": "markdown",
   "id": "3d901694",
   "metadata": {},
   "source": [
    "## Add else"
   ]
  },
  {
   "cell_type": "code",
   "execution_count": 23,
   "id": "85f0b97e",
   "metadata": {},
   "outputs": [
    {
     "name": "stdout",
     "output_type": "stream",
     "text": [
      "looking around in the kitchen.\n",
      "big place!\n"
     ]
    }
   ],
   "source": [
    "# If else statement for room\n",
    "if room == \"kit\":\n",
    "    print(\"looking around in the kitchen.\")\n",
    "else:\n",
    "    print(\"looking around elsewhere.\")\n",
    "    \n",
    "# If else statement for area\n",
    "if area > 15:\n",
    "    print(\"big place!\")\n",
    "else:\n",
    "    print(\"pretty small!\")"
   ]
  },
  {
   "cell_type": "markdown",
   "id": "440782d1",
   "metadata": {},
   "source": [
    "### Customize further with elif"
   ]
  },
  {
   "cell_type": "code",
   "execution_count": 25,
   "id": "563bc812",
   "metadata": {},
   "outputs": [
    {
     "name": "stdout",
     "output_type": "stream",
     "text": [
      "looking around in the bedroom.\n",
      "medium size, nice!\n"
     ]
    }
   ],
   "source": [
    "# Define variables\n",
    "room = \"bed\"\n",
    "area = 14.0\n",
    "\n",
    "# if-elif-else \n",
    "if room == \"kit\":\n",
    "    print(\"looking around in the kitchen.\")\n",
    "elif room == \"bed\":\n",
    "    print(\"looking around in the bedroom.\")\n",
    "else:\n",
    "    print(\"looking around elsewhere.\")\n",
    "    \n",
    "# if-elif-else for area\n",
    "if area > 15:\n",
    "    print(\"big place!\")\n",
    "elif area > 10:\n",
    "    print(\"medium size, nice!\")\n",
    "else:\n",
    "    print(\"pretty small.\")"
   ]
  },
  {
   "cell_type": "markdown",
   "id": "7bd70ee1",
   "metadata": {},
   "source": [
    "## Filtering pandas DataFrames"
   ]
  },
  {
   "cell_type": "code",
   "execution_count": 29,
   "id": "0f878755",
   "metadata": {},
   "outputs": [
    {
     "data": {
      "text/html": [
       "<div>\n",
       "<style scoped>\n",
       "    .dataframe tbody tr th:only-of-type {\n",
       "        vertical-align: middle;\n",
       "    }\n",
       "\n",
       "    .dataframe tbody tr th {\n",
       "        vertical-align: top;\n",
       "    }\n",
       "\n",
       "    .dataframe thead th {\n",
       "        text-align: right;\n",
       "    }\n",
       "</style>\n",
       "<table border=\"1\" class=\"dataframe\">\n",
       "  <thead>\n",
       "    <tr style=\"text-align: right;\">\n",
       "      <th></th>\n",
       "      <th>cars_per_cap</th>\n",
       "      <th>country</th>\n",
       "      <th>drives_right</th>\n",
       "    </tr>\n",
       "    <tr>\n",
       "      <th>country_ab</th>\n",
       "      <th></th>\n",
       "      <th></th>\n",
       "      <th></th>\n",
       "    </tr>\n",
       "  </thead>\n",
       "  <tbody>\n",
       "    <tr>\n",
       "      <th>US</th>\n",
       "      <td>809</td>\n",
       "      <td>United States</td>\n",
       "      <td>True</td>\n",
       "    </tr>\n",
       "    <tr>\n",
       "      <th>AUS</th>\n",
       "      <td>731</td>\n",
       "      <td>Australia</td>\n",
       "      <td>False</td>\n",
       "    </tr>\n",
       "    <tr>\n",
       "      <th>JAP</th>\n",
       "      <td>588</td>\n",
       "      <td>Japan</td>\n",
       "      <td>False</td>\n",
       "    </tr>\n",
       "    <tr>\n",
       "      <th>IN</th>\n",
       "      <td>18</td>\n",
       "      <td>India</td>\n",
       "      <td>False</td>\n",
       "    </tr>\n",
       "    <tr>\n",
       "      <th>RU</th>\n",
       "      <td>200</td>\n",
       "      <td>Russia</td>\n",
       "      <td>True</td>\n",
       "    </tr>\n",
       "    <tr>\n",
       "      <th>MOR</th>\n",
       "      <td>70</td>\n",
       "      <td>Morocco</td>\n",
       "      <td>True</td>\n",
       "    </tr>\n",
       "    <tr>\n",
       "      <th>EG</th>\n",
       "      <td>45</td>\n",
       "      <td>Egypt</td>\n",
       "      <td>True</td>\n",
       "    </tr>\n",
       "  </tbody>\n",
       "</table>\n",
       "</div>"
      ],
      "text/plain": [
       "            cars_per_cap        country  drives_right\n",
       "country_ab                                           \n",
       "US                   809  United States          True\n",
       "AUS                  731      Australia         False\n",
       "JAP                  588          Japan         False\n",
       "IN                    18          India         False\n",
       "RU                   200         Russia          True\n",
       "MOR                   70        Morocco          True\n",
       "EG                    45          Egypt          True"
      ]
     },
     "execution_count": 29,
     "metadata": {},
     "output_type": "execute_result"
    }
   ],
   "source": [
    "import pandas as pd\n",
    "\n",
    "# Import cars data\n",
    "cars = pd.read_csv(\"cars.csv\", index_col = 0)\n",
    "cars"
   ]
  },
  {
   "cell_type": "code",
   "execution_count": 33,
   "id": "db4a21cd",
   "metadata": {},
   "outputs": [
    {
     "name": "stdout",
     "output_type": "stream",
     "text": [
      "            cars_per_cap        country  drives_right\n",
      "country_ab                                           \n",
      "US                   809  United States          True\n",
      "RU                   200         Russia          True\n",
      "MOR                   70        Morocco          True\n",
      "EG                    45          Egypt          True\n"
     ]
    }
   ],
   "source": [
    "# Extract drives_right column as series: dr\n",
    "dr = cars['drives_right']\n",
    "\n",
    "# Use dr to subset cars: sel\n",
    "sel = cars[dr]\n",
    "\n",
    "# Print sel\n",
    "print(sel)"
   ]
  },
  {
   "cell_type": "code",
   "execution_count": 34,
   "id": "21b06507",
   "metadata": {},
   "outputs": [
    {
     "name": "stdout",
     "output_type": "stream",
     "text": [
      "            cars_per_cap        country  drives_right\n",
      "country_ab                                           \n",
      "US                   809  United States          True\n",
      "RU                   200         Russia          True\n",
      "MOR                   70        Morocco          True\n",
      "EG                    45          Egypt          True\n"
     ]
    }
   ],
   "source": [
    "# Another way of doing it\n",
    "sel = cars[cars['drives_right']]\n",
    "print(sel)"
   ]
  },
  {
   "cell_type": "markdown",
   "id": "f11d0f9d",
   "metadata": {},
   "source": [
    "### Cars per capita"
   ]
  },
  {
   "cell_type": "code",
   "execution_count": 36,
   "id": "cd0e5131",
   "metadata": {},
   "outputs": [
    {
     "name": "stdout",
     "output_type": "stream",
     "text": [
      "            cars_per_cap        country  drives_right\n",
      "country_ab                                           \n",
      "US                   809  United States          True\n",
      "AUS                  731      Australia         False\n",
      "JAP                  588          Japan         False\n"
     ]
    }
   ],
   "source": [
    "# Create car_maniac : observations that have cars_per_cap over 500\n",
    "car_maniac = cars[cars['cars_per_cap'] > 500]\n",
    "print(car_maniac)"
   ]
  },
  {
   "cell_type": "code",
   "execution_count": 40,
   "id": "48836b81",
   "metadata": {},
   "outputs": [
    {
     "name": "stdout",
     "output_type": "stream",
     "text": [
      "            cars_per_cap country  drives_right\n",
      "country_ab                                    \n",
      "RU                   200  Russia          True\n"
     ]
    }
   ],
   "source": [
    "# create medium: observation with cars_per_cap between 100 and 500\n",
    "cpc = cars['cars_per_cap']\n",
    "between = np.logical_and(cpc>100, cpc<500)\n",
    "medium = cars[between]\n",
    "print(medium)"
   ]
  },
  {
   "cell_type": "code",
   "execution_count": 42,
   "id": "956c8b5c",
   "metadata": {},
   "outputs": [
    {
     "data": {
      "text/html": [
       "<div>\n",
       "<style scoped>\n",
       "    .dataframe tbody tr th:only-of-type {\n",
       "        vertical-align: middle;\n",
       "    }\n",
       "\n",
       "    .dataframe tbody tr th {\n",
       "        vertical-align: top;\n",
       "    }\n",
       "\n",
       "    .dataframe thead th {\n",
       "        text-align: right;\n",
       "    }\n",
       "</style>\n",
       "<table border=\"1\" class=\"dataframe\">\n",
       "  <thead>\n",
       "    <tr style=\"text-align: right;\">\n",
       "      <th></th>\n",
       "      <th>cars_per_cap</th>\n",
       "      <th>country</th>\n",
       "      <th>drives_right</th>\n",
       "    </tr>\n",
       "    <tr>\n",
       "      <th>country_ab</th>\n",
       "      <th></th>\n",
       "      <th></th>\n",
       "      <th></th>\n",
       "    </tr>\n",
       "  </thead>\n",
       "  <tbody>\n",
       "    <tr>\n",
       "      <th>US</th>\n",
       "      <td>809</td>\n",
       "      <td>United States</td>\n",
       "      <td>True</td>\n",
       "    </tr>\n",
       "    <tr>\n",
       "      <th>AUS</th>\n",
       "      <td>731</td>\n",
       "      <td>Australia</td>\n",
       "      <td>False</td>\n",
       "    </tr>\n",
       "    <tr>\n",
       "      <th>JAP</th>\n",
       "      <td>588</td>\n",
       "      <td>Japan</td>\n",
       "      <td>False</td>\n",
       "    </tr>\n",
       "    <tr>\n",
       "      <th>IN</th>\n",
       "      <td>18</td>\n",
       "      <td>India</td>\n",
       "      <td>False</td>\n",
       "    </tr>\n",
       "    <tr>\n",
       "      <th>RU</th>\n",
       "      <td>200</td>\n",
       "      <td>Russia</td>\n",
       "      <td>True</td>\n",
       "    </tr>\n",
       "    <tr>\n",
       "      <th>MOR</th>\n",
       "      <td>70</td>\n",
       "      <td>Morocco</td>\n",
       "      <td>True</td>\n",
       "    </tr>\n",
       "    <tr>\n",
       "      <th>EG</th>\n",
       "      <td>45</td>\n",
       "      <td>Egypt</td>\n",
       "      <td>True</td>\n",
       "    </tr>\n",
       "  </tbody>\n",
       "</table>\n",
       "</div>"
      ],
      "text/plain": [
       "            cars_per_cap        country  drives_right\n",
       "country_ab                                           \n",
       "US                   809  United States          True\n",
       "AUS                  731      Australia         False\n",
       "JAP                  588          Japan         False\n",
       "IN                    18          India         False\n",
       "RU                   200         Russia          True\n",
       "MOR                   70        Morocco          True\n",
       "EG                    45          Egypt          True"
      ]
     },
     "execution_count": 42,
     "metadata": {},
     "output_type": "execute_result"
    }
   ],
   "source": [
    "# Some extra exercises\n",
    "\n",
    "# Check out cars data first of all\n",
    "cars"
   ]
  },
  {
   "cell_type": "code",
   "execution_count": 52,
   "id": "543f32df",
   "metadata": {},
   "outputs": [
    {
     "data": {
      "text/html": [
       "<div>\n",
       "<style scoped>\n",
       "    .dataframe tbody tr th:only-of-type {\n",
       "        vertical-align: middle;\n",
       "    }\n",
       "\n",
       "    .dataframe tbody tr th {\n",
       "        vertical-align: top;\n",
       "    }\n",
       "\n",
       "    .dataframe thead th {\n",
       "        text-align: right;\n",
       "    }\n",
       "</style>\n",
       "<table border=\"1\" class=\"dataframe\">\n",
       "  <thead>\n",
       "    <tr style=\"text-align: right;\">\n",
       "      <th></th>\n",
       "      <th>cars_per_cap</th>\n",
       "      <th>country</th>\n",
       "      <th>drives_right</th>\n",
       "    </tr>\n",
       "    <tr>\n",
       "      <th>country_ab</th>\n",
       "      <th></th>\n",
       "      <th></th>\n",
       "      <th></th>\n",
       "    </tr>\n",
       "  </thead>\n",
       "  <tbody>\n",
       "    <tr>\n",
       "      <th>IN</th>\n",
       "      <td>18</td>\n",
       "      <td>India</td>\n",
       "      <td>False</td>\n",
       "    </tr>\n",
       "    <tr>\n",
       "      <th>MOR</th>\n",
       "      <td>70</td>\n",
       "      <td>Morocco</td>\n",
       "      <td>True</td>\n",
       "    </tr>\n",
       "    <tr>\n",
       "      <th>EG</th>\n",
       "      <td>45</td>\n",
       "      <td>Egypt</td>\n",
       "      <td>True</td>\n",
       "    </tr>\n",
       "  </tbody>\n",
       "</table>\n",
       "</div>"
      ],
      "text/plain": [
       "            cars_per_cap  country  drives_right\n",
       "country_ab                                     \n",
       "IN                    18    India         False\n",
       "MOR                   70  Morocco          True\n",
       "EG                    45    Egypt          True"
      ]
     },
     "execution_count": 52,
     "metadata": {},
     "output_type": "execute_result"
    }
   ],
   "source": [
    "# Countries that have cpc 100 and 300\n",
    "cp = cars['cars_per_cap']\n",
    "range = np.logical_and(cp < 100, cp > 2)\n",
    "ca = cars[range]\n",
    "ca\n"
   ]
  }
 ],
 "metadata": {
  "kernelspec": {
   "display_name": "Python 3 (ipykernel)",
   "language": "python",
   "name": "python3"
  },
  "language_info": {
   "codemirror_mode": {
    "name": "ipython",
    "version": 3
   },
   "file_extension": ".py",
   "mimetype": "text/x-python",
   "name": "python",
   "nbconvert_exporter": "python",
   "pygments_lexer": "ipython3",
   "version": "3.9.7"
  }
 },
 "nbformat": 4,
 "nbformat_minor": 5
}
