{
 "cells": [
  {
   "cell_type": "markdown",
   "id": "e81dd626",
   "metadata": {},
   "source": [
    "# Loops"
   ]
  },
  {
   "cell_type": "markdown",
   "id": "9e598bb1",
   "metadata": {},
   "source": [
    "### While loop"
   ]
  },
  {
   "cell_type": "code",
   "execution_count": 1,
   "id": "0c4e6abc",
   "metadata": {},
   "outputs": [
    {
     "name": "stdout",
     "output_type": "stream",
     "text": [
      "correcting...\n",
      "7\n",
      "correcting...\n",
      "6\n",
      "correcting...\n",
      "5\n",
      "correcting...\n",
      "4\n",
      "correcting...\n",
      "3\n",
      "correcting...\n",
      "2\n",
      "correcting...\n",
      "1\n",
      "correcting...\n",
      "0\n"
     ]
    }
   ],
   "source": [
    "# Create the variable offset with an initial value of 8\n",
    "offset = 8\n",
    "\n",
    "# Code the while loop\n",
    "while offset != 0:\n",
    "    offset = offset - 1\n",
    "    print(\"correcting...\")\n",
    "    print(offset)\n",
    "    \n",
    "    \n"
   ]
  },
  {
   "cell_type": "markdown",
   "id": "eb290726",
   "metadata": {},
   "source": [
    "### Additional conditionals\n"
   ]
  },
  {
   "cell_type": "code",
   "execution_count": 2,
   "id": "87fd216c",
   "metadata": {},
   "outputs": [
    {
     "name": "stdout",
     "output_type": "stream",
     "text": [
      "correcting...\n",
      "-5\n",
      "correcting...\n",
      "-4\n",
      "correcting...\n",
      "-3\n",
      "correcting...\n",
      "-2\n",
      "correcting...\n",
      "-1\n",
      "correcting...\n",
      "0\n"
     ]
    }
   ],
   "source": [
    "# Initialize offset\n",
    "offset = -6\n",
    "\n",
    "# Code the while loop\n",
    "while offset != 0 :\n",
    "    print(\"correcting...\")\n",
    "    if offset > 0:\n",
    "        offset = offset - 1\n",
    "    else:\n",
    "        offset = offset + 1\n",
    "        print(offset)"
   ]
  },
  {
   "cell_type": "markdown",
   "id": "c22f96f3",
   "metadata": {},
   "source": [
    "### Loop over a list"
   ]
  },
  {
   "cell_type": "code",
   "execution_count": 3,
   "id": "fa9684fd",
   "metadata": {},
   "outputs": [
    {
     "name": "stdout",
     "output_type": "stream",
     "text": [
      "11.25\n",
      "18.0\n",
      "20.0\n",
      "10.75\n",
      "9.5\n"
     ]
    }
   ],
   "source": [
    "# areas list\n",
    "areas = [11.25, 18.0, 20.0, 10.75, 9.50]\n",
    "\n",
    "# Code the for loop\n",
    "for areas in areas: \n",
    "    print(areas)"
   ]
  },
  {
   "cell_type": "markdown",
   "id": "e5e5e227",
   "metadata": {},
   "source": [
    "### Indexes and values\n",
    "\n"
   ]
  },
  {
   "cell_type": "code",
   "execution_count": 4,
   "id": "b36c07b4",
   "metadata": {},
   "outputs": [
    {
     "name": "stdout",
     "output_type": "stream",
     "text": [
      "room 0: 11.25\n",
      "room 1: 18.0\n",
      "room 2: 20.0\n",
      "room 3: 10.75\n",
      "room 4: 9.5\n"
     ]
    }
   ],
   "source": [
    "# Areas list\n",
    "areas = [11.25, 18.0, 20.0, 10.75, 9.50]\n",
    "\n",
    "# Loop to use enumerate() and update print()\n",
    "\n",
    "for index, a in enumerate(areas):\n",
    "    print(\"room \" + str(index) + \": \" + str(a))"
   ]
  },
  {
   "cell_type": "markdown",
   "id": "473e5338",
   "metadata": {},
   "source": [
    "### WEIRD"
   ]
  },
  {
   "cell_type": "markdown",
   "id": "bb761190",
   "metadata": {},
   "source": [
    "room number should start with 1 not 0"
   ]
  },
  {
   "cell_type": "code",
   "execution_count": 5,
   "id": "bd04ae2a",
   "metadata": {},
   "outputs": [
    {
     "name": "stdout",
     "output_type": "stream",
     "text": [
      "room 1: 11.25\n",
      "room 2: 18.0\n",
      "room 3: 20.0\n",
      "room 4: 10.75\n",
      "room 5: 9.5\n"
     ]
    }
   ],
   "source": [
    "# Update\n",
    "\n",
    "# Areas list\n",
    "areas = [11.25, 18.0, 20.0, 10.75, 9.50]\n",
    "\n",
    "# Loop to use enumerate() and update print()\n",
    "\n",
    "for index, a in enumerate(areas):\n",
    "    print(\"room \" + str(index + 1) + \": \" + str(a))"
   ]
  },
  {
   "cell_type": "markdown",
   "id": "8f0af70d",
   "metadata": {},
   "source": [
    "### Loop over list of lists"
   ]
  },
  {
   "cell_type": "code",
   "execution_count": 15,
   "id": "f3398c9a",
   "metadata": {},
   "outputs": [
    {
     "name": "stdout",
     "output_type": "stream",
     "text": [
      "the hallwayis 11.25 sqm\n",
      "the kitchenis 18.0 sqm\n",
      "the living roomis 20.0 sqm\n",
      "the bedroomis 10.75 sqm\n",
      "the bathroomis 9.5 sqm\n"
     ]
    }
   ],
   "source": [
    "# house list of lists\n",
    "house = [[\"hallway\", 11.25],\n",
    "        [\"kitchen\", 18.0],\n",
    "        [\"living room\", 20.0],\n",
    "        [\"bedroom\", 10.75],\n",
    "        [\"bathroom\", 9.50]]\n",
    "for ro_ar in house:\n",
    "    print(\"the \" + ro_ar[0] + \"is \" + str(ro_ar[1]) + \" sqm\")"
   ]
  },
  {
   "cell_type": "markdown",
   "id": "365e4fe6",
   "metadata": {},
   "source": [
    "## Loop Data Structures"
   ]
  },
  {
   "cell_type": "markdown",
   "id": "23aed0e2",
   "metadata": {},
   "source": [
    "#### Loop over dictionary\n"
   ]
  },
  {
   "cell_type": "code",
   "execution_count": 18,
   "id": "73e0602b",
   "metadata": {},
   "outputs": [
    {
     "name": "stdout",
     "output_type": "stream",
     "text": [
      "afghanistan -- 30.55\n",
      "albania -- 2.77\n",
      "algeria -- 39.21\n"
     ]
    }
   ],
   "source": [
    "world = { \"afghanistan\":30.55, \n",
    "          \"albania\":2.77,\n",
    "          \"algeria\":39.21 }\n",
    "\n",
    "for key, value in world.items() :\n",
    "    print(key + \" -- \" + str(value))"
   ]
  },
  {
   "cell_type": "code",
   "execution_count": 19,
   "id": "f97435aa",
   "metadata": {},
   "outputs": [
    {
     "name": "stdout",
     "output_type": "stream",
     "text": [
      "the capital of spain is madrid\n",
      "the capital of france is paris\n",
      "the capital of germany is berlin\n",
      "the capital of norway is oslo\n",
      "the capital of italy is rome\n",
      "the capital of poland is warsaw\n",
      "the capital of austria is vienna\n"
     ]
    }
   ],
   "source": [
    "# Definition of dictionary\n",
    "europe = {'spain':'madrid', 'france':'paris', 'germany':'berlin',\n",
    "          'norway':'oslo', 'italy':'rome', 'poland':'warsaw', 'austria':'vienna' }\n",
    "\n",
    "# Iterate over Europe\n",
    "for country, capital in europe.items():\n",
    "    print(\"the capital of \" + str(country) + \" is \" + capital)\n"
   ]
  },
  {
   "cell_type": "markdown",
   "id": "a9f31555",
   "metadata": {},
   "source": [
    "## Loop over DataFrame"
   ]
  },
  {
   "cell_type": "code",
   "execution_count": 21,
   "id": "f2e15a52",
   "metadata": {},
   "outputs": [],
   "source": [
    "# Import cars data set\n",
    "import pandas as pd\n",
    "cars = pd.read_csv('cars.csv', index_col = 0)"
   ]
  },
  {
   "cell_type": "code",
   "execution_count": 22,
   "id": "d42495d8",
   "metadata": {},
   "outputs": [
    {
     "name": "stdout",
     "output_type": "stream",
     "text": [
      "US\n",
      "cars_per_cap              809\n",
      "country         United States\n",
      "drives_right             True\n",
      "Name: US, dtype: object\n",
      "AUS\n",
      "cars_per_cap          731\n",
      "country         Australia\n",
      "drives_right        False\n",
      "Name: AUS, dtype: object\n",
      "JAP\n",
      "cars_per_cap      588\n",
      "country         Japan\n",
      "drives_right    False\n",
      "Name: JAP, dtype: object\n",
      "IN\n",
      "cars_per_cap       18\n",
      "country         India\n",
      "drives_right    False\n",
      "Name: IN, dtype: object\n",
      "RU\n",
      "cars_per_cap       200\n",
      "country         Russia\n",
      "drives_right      True\n",
      "Name: RU, dtype: object\n",
      "MOR\n",
      "cars_per_cap         70\n",
      "country         Morocco\n",
      "drives_right       True\n",
      "Name: MOR, dtype: object\n",
      "EG\n",
      "cars_per_cap       45\n",
      "country         Egypt\n",
      "drives_right     True\n",
      "Name: EG, dtype: object\n"
     ]
    }
   ],
   "source": [
    "# Iterate over rows of cars\n",
    "for car, row in cars.iterrows():\n",
    "    print(car)\n",
    "    print(row)"
   ]
  },
  {
   "cell_type": "markdown",
   "id": "8a5ce67d",
   "metadata": {},
   "source": [
    "## Loop over DataFrame (2)\n",
    "\n"
   ]
  },
  {
   "cell_type": "code",
   "execution_count": 23,
   "id": "d4446939",
   "metadata": {},
   "outputs": [
    {
     "name": "stdout",
     "output_type": "stream",
     "text": [
      "US: 809\n",
      "AUS: 731\n",
      "JAP: 588\n",
      "IN: 18\n",
      "RU: 200\n",
      "MOR: 70\n",
      "EG: 45\n"
     ]
    }
   ],
   "source": [
    "# Import cars data\n",
    "import pandas as pd\n",
    "cars = pd.read_csv('cars.csv', index_col = 0)\n",
    "\n",
    "# Adapt for loop\n",
    "for lab, row in cars.iterrows():\n",
    "    print(str(lab) + \": \" + str(row['cars_per_cap']))\n",
    "  "
   ]
  },
  {
   "cell_type": "markdown",
   "id": "b8c4f4dc",
   "metadata": {},
   "source": [
    "## Add columns"
   ]
  },
  {
   "cell_type": "code",
   "execution_count": 24,
   "id": "c73071d8",
   "metadata": {},
   "outputs": [
    {
     "name": "stdout",
     "output_type": "stream",
     "text": [
      "            cars_per_cap        country  drives_right        COUNTRY\n",
      "country_ab                                                          \n",
      "US                   809  United States          True  UNITED STATES\n",
      "AUS                  731      Australia         False      AUSTRALIA\n",
      "JAP                  588          Japan         False          JAPAN\n",
      "IN                    18          India         False          INDIA\n",
      "RU                   200         Russia          True         RUSSIA\n",
      "MOR                   70        Morocco          True        MOROCCO\n",
      "EG                    45          Egypt          True          EGYPT\n"
     ]
    }
   ],
   "source": [
    "# Import cars data\n",
    "import pandas as pd\n",
    "cars = pd.read_csv('cars.csv', index_col = 0)\n",
    "\n",
    "# Code for loop that adds COUNTRY column\n",
    "for lab, row in cars.iterrows():\n",
    "    cars.loc[lab, \"COUNTRY\"] = row[\"country\"].upper()\n",
    "\n",
    "# Print cars\n",
    "print(cars)"
   ]
  },
  {
   "cell_type": "code",
   "execution_count": 27,
   "id": "1a7630ce",
   "metadata": {},
   "outputs": [
    {
     "name": "stdout",
     "output_type": "stream",
     "text": [
      "            cars_per_cap        country  drives_right        COUNTRY\n",
      "country_ab                                                          \n",
      "US                   809  United States          True  UNITED STATES\n",
      "AUS                  731      Australia         False      AUSTRALIA\n",
      "JAP                  588          Japan         False          JAPAN\n",
      "IN                    18          India         False          INDIA\n",
      "RU                   200         Russia          True         RUSSIA\n",
      "MOR                   70        Morocco          True        MOROCCO\n",
      "EG                    45          Egypt          True          EGYPT\n"
     ]
    }
   ],
   "source": [
    "# Obtain same results using apply\n",
    "for lab, row in cars.iterrows():\n",
    "    cars[\"COUNTRY\"] = cars[\"country\"].apply(str.upper)\n",
    "print(cars)"
   ]
  }
 ],
 "metadata": {
  "kernelspec": {
   "display_name": "Python 3 (ipykernel)",
   "language": "python",
   "name": "python3"
  },
  "language_info": {
   "codemirror_mode": {
    "name": "ipython",
    "version": 3
   },
   "file_extension": ".py",
   "mimetype": "text/x-python",
   "name": "python",
   "nbconvert_exporter": "python",
   "pygments_lexer": "ipython3",
   "version": "3.9.7"
  }
 },
 "nbformat": 4,
 "nbformat_minor": 5
}
