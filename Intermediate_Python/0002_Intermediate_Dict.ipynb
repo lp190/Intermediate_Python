{
 "cells": [
  {
   "cell_type": "markdown",
   "id": "8ab79165",
   "metadata": {},
   "source": [
    "## Dictionaries"
   ]
  },
  {
   "cell_type": "markdown",
   "id": "430ff2b9",
   "metadata": {},
   "source": [
    "Lists can be converted into dictionaries using curly brackets."
   ]
  },
  {
   "cell_type": "code",
   "execution_count": 10,
   "id": "74608f04",
   "metadata": {},
   "outputs": [
    {
     "name": "stdout",
     "output_type": "stream",
     "text": [
      "berlin\n",
      "paris\n"
     ]
    }
   ],
   "source": [
    "# Definition of countries and capital\n",
    "countries = ['spain', 'france', 'germany', 'normay']\n",
    "capitals = ['madrid', 'paris', 'berlin', 'oslo']\n",
    "\n",
    "# Index of 'germany': ind_ger\n",
    "ind_ger = countries.index('germany')\n",
    "ind_ger\n",
    "print(capitals[ind_ger])\n",
    "\n",
    "# Index of 'france' : ind_fr\n",
    "ind_fr = countries.index('france')\n",
    "print(capitals[ind_fr])"
   ]
  },
  {
   "cell_type": "markdown",
   "id": "9eda3734",
   "metadata": {},
   "source": [
    "#### Creating a dictionarly using the above lists of countries and countries"
   ]
  },
  {
   "cell_type": "code",
   "execution_count": 11,
   "id": "1871c3bd",
   "metadata": {},
   "outputs": [
    {
     "name": "stdout",
     "output_type": "stream",
     "text": [
      "{'spain': 'madrid', 'france': 'paris', 'germany': 'berlin', 'norway': 'oslo'}\n"
     ]
    }
   ],
   "source": [
    "# Lists of countries and capitals\n",
    "countries = ['spain', 'france', 'germany', 'normay']\n",
    "capitals = ['madrid', 'paris', 'berlin', 'oslo']\n",
    "\n",
    "# Creating a dictionary\n",
    "Eur_cap = {'spain': 'madrid',\n",
    "          'france': 'paris',\n",
    "          'germany': 'berlin',\n",
    "          'norway': 'oslo'}\n",
    "print(Eur_cap)\n"
   ]
  },
  {
   "cell_type": "code",
   "execution_count": 22,
   "id": "ed373bb2",
   "metadata": {},
   "outputs": [
    {
     "name": "stdout",
     "output_type": "stream",
     "text": [
      "dict_keys(['spain', 'france', 'germany', 'norway'])\n",
      "oslo\n"
     ]
    }
   ],
   "source": [
    "# Dictionary\n",
    "Eur_cap\n",
    "\n",
    "# print out the capital of france\n",
    "Eur_cap['france']\n",
    "\n",
    "# Print out the keys in europe\n",
    "print(Eur_cap.keys())\n",
    "\n",
    "\n",
    "# Print out the value that belongs to key 'norway'\n",
    "print(Eur_cap['norway'])"
   ]
  },
  {
   "cell_type": "markdown",
   "id": "8f493fee",
   "metadata": {},
   "source": [
    "#### Keys have to immutable objects"
   ]
  },
  {
   "cell_type": "code",
   "execution_count": 30,
   "id": "cd9c8484",
   "metadata": {},
   "outputs": [
    {
     "name": "stdout",
     "output_type": "stream",
     "text": [
      "True\n",
      "{'spain': 'madrid', 'france': 'paris', 'germany': 'berlin', 'norway': 'oslo', 'ukraine': 'kyiv'}\n"
     ]
    }
   ],
   "source": [
    "#Chec the dictionary\n",
    "Eur_cap\n",
    "\n",
    "# Add another country and capita and update\n",
    "Eur_cap['ukraine'] = 'kyiv'\n",
    "\n",
    "# Check 'ukraine' in Eur_cap\n",
    "print('ukraine' in Eur_cap)\n",
    "\n",
    "# Print the Eur_cap\n",
    "print(Eur_cap)\n",
    "\n"
   ]
  },
  {
   "cell_type": "markdown",
   "id": "82892db4",
   "metadata": {},
   "source": [
    "##### Removing an entry\n"
   ]
  },
  {
   "cell_type": "code",
   "execution_count": 31,
   "id": "e0926d53",
   "metadata": {},
   "outputs": [
    {
     "name": "stdout",
     "output_type": "stream",
     "text": [
      "{'spain': 'madrid', 'france': 'paris', 'germany': 'berlin', 'norway': 'oslo', 'italy': 'rome', 'poland': 'warsaw', 'australia': 'vienna'}\n"
     ]
    }
   ],
   "source": [
    "# Sample dictionary\n",
    "europe = {'spain':'madrid', 'france':'paris', 'germany':'bonn',\n",
    "          'norway':'oslo', 'italy':'rome', 'poland':'warsaw',\n",
    "          'australia':'vienna' }\n",
    "\n",
    "# Correcting germany's capita\n",
    "europe['germany'] = 'berlin'\n",
    "\n",
    "# Checking europe\n",
    "print(europe)\n",
    "\n"
   ]
  },
  {
   "cell_type": "markdown",
   "id": "a1bd49ee",
   "metadata": {},
   "source": [
    "#### There is another mistake with Australia that needs to be removed\n",
    "\n"
   ]
  },
  {
   "cell_type": "code",
   "execution_count": 35,
   "id": "86ddbf7c",
   "metadata": {},
   "outputs": [
    {
     "name": "stdout",
     "output_type": "stream",
     "text": [
      "{'spain': 'madrid', 'france': 'paris', 'germany': 'bonn', 'norway': 'oslo', 'italy': 'rome', 'poland': 'warsaw'}\n"
     ]
    }
   ],
   "source": [
    "europe = {'spain':'madrid', 'france':'paris', 'germany':'bonn',\n",
    "          'norway':'oslo', 'italy':'rome', 'poland':'warsaw',\n",
    "          'australia':'vienna'}\n",
    "\n",
    "# Removing australia\n",
    "del(europe['australia'])\n",
    "\n",
    "# Checking europe again\n",
    "print(europe)"
   ]
  },
  {
   "cell_type": "markdown",
   "id": "47ec2586",
   "metadata": {},
   "source": [
    "#### More complex set of dictionary"
   ]
  },
  {
   "cell_type": "code",
   "execution_count": 39,
   "id": "0c9388df",
   "metadata": {},
   "outputs": [
    {
     "name": "stdout",
     "output_type": "stream",
     "text": [
      "{'spain': {'capital': 'madrid', 'population': 46.77}, 'france': {'capital': 'paris', 'population': 66.03}, 'germany': {'capital': 'berlin', 'population': 80.62}, 'norway': {'capital': 'oslo', 'population': 5.084}, 'italy': {'capital': 'rome', 'population': 59.83}}\n"
     ]
    }
   ],
   "source": [
    "# Including population\n",
    "europe = { 'spain': { 'capital':'madrid', 'population':46.77 },\n",
    "           'france': { 'capital':'paris', 'population':66.03 },\n",
    "           'germany': { 'capital':'berlin', 'population':80.62 },\n",
    "           'norway': { 'capital':'oslo', 'population':5.084 } }\n",
    "\n",
    "# Print our the capital of France\n",
    "europe['france']['capital']\n",
    "\n",
    "# Create a sub-dictionary data\n",
    "data = {'capital': 'rome', 'population': 59.83}\n",
    "\n",
    "# Add the above dictionary to the dict europe under the key 'italy'\n",
    "europe['italy'] = data\n",
    "\n",
    "# Check check europe\n",
    "print(europe)"
   ]
  }
 ],
 "metadata": {
  "kernelspec": {
   "display_name": "Python 3 (ipykernel)",
   "language": "python",
   "name": "python3"
  },
  "language_info": {
   "codemirror_mode": {
    "name": "ipython",
    "version": 3
   },
   "file_extension": ".py",
   "mimetype": "text/x-python",
   "name": "python",
   "nbconvert_exporter": "python",
   "pygments_lexer": "ipython3",
   "version": "3.9.7"
  }
 },
 "nbformat": 4,
 "nbformat_minor": 5
}
